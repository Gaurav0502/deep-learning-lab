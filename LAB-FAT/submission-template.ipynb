{
 "cells": [
  {
   "cell_type": "markdown",
   "metadata": {},
   "source": [
    "# Importing the required modules"
   ]
  },
  {
   "cell_type": "code",
   "execution_count": 1,
   "metadata": {},
   "outputs": [],
   "source": [
    "# Modules used for data handling and visualisation\n",
    "import pandas as pd\n",
    "import numpy as np\n",
    "import matplotlib.pyplot as plt\n",
    "import matplotlib.image as mpimg\n",
    "import seaborn as sns\n",
    "import random as r\n",
    "sns.set_style(\"whitegrid\")\n",
    "\n",
    "# Modules used for suppressing warnings\n",
    "import warnings \n",
    "warnings.filterwarnings('ignore')\n",
    "\n",
    "# Modules used for dataset split\n",
    "import splitfolders\n",
    "import os\n",
    "\n",
    "# Modules used for model training and transfer learning\n",
    "import tensorflow as tf\n",
    "from tensorflow.keras.layers import Dense,Flatten\n",
    "from tensorflow.keras.models import Sequential\n",
    "from tensorflow.keras.optimizers import Adam\n",
    "from tensorflow.keras.applications.resnet50 import ResNet50\n",
    "from tensorflow.keras import Model"
   ]
  },
  {
   "cell_type": "markdown",
   "metadata": {},
   "source": [
    "# Loading and Exploring the dataset"
   ]
  },
  {
   "cell_type": "code",
   "execution_count": 2,
   "metadata": {},
   "outputs": [],
   "source": [
    "class Dataset:\n",
    "\n",
    "    def __init__(self, dataset_path : str):\n",
    "        self.PARENT = dataset_path\n",
    "        self.class_distribution = dict()\n",
    "    \n",
    "    def __compute_class_distributions(self):\n",
    "        for dirname in os.listdir(self.PARENT):\n",
    "            self.class_distribution[dirname] = len(os.listdir(os.path.join(self.PARENT, dirname)))\n",
    "\n",
    "    def class_distributions(self):\n",
    "        self.__compute_class_distributions()\n",
    "\n",
    "        plt.figure(figsize=(10,10))\n",
    "        plt.bar(self.class_distribution.keys(),\n",
    "        self.class_distribution.values(),\n",
    "        color=[\"crimson\",\"red\",\"orange\",\"yellow\"])\n",
    "        plt.xticks(rotation=90)\n",
    "        plt.title(\"Class Distribution of PlantVillage dataset\")\n",
    "        plt.xlabel(\"Class Label\")\n",
    "        plt.ylabel(\"Frequency of class\")\n",
    "        plt.show()\n",
    "\n",
    "    def show_class_samples(self):\n",
    "        rows = 5\n",
    "        columns = 3\n",
    "        c = 0\n",
    "        fig, axs = plt.subplots(rows, columns,figsize=(15,15))\n",
    "        for dirname in os.listdir(self.PARENT):\n",
    "            img_path = r.choice(os.listdir(os.path.join(self.PARENT, dirname)))\n",
    "            image = mpimg.imread(os.path.join(self.PARENT, dirname, img_path))\n",
    "            axs[c//columns, c%columns].imshow(image)\n",
    "            axs[c//columns, c%columns].set_title(dirname)\n",
    "            c += 1\n",
    "        fig.suptitle(\"Image Samples of Plant Village dataset\")\n",
    "        plt.subplots_adjust(bottom=0.1, top=0.9, hspace=0.5)\n",
    "        plt.show()"
   ]
  },
  {
   "cell_type": "markdown",
   "metadata": {},
   "source": [
    "# Data Preprocessing"
   ]
  },
  {
   "cell_type": "markdown",
   "metadata": {},
   "source": []
  }
 ],
 "metadata": {
  "kernelspec": {
   "display_name": "Python 3.9.1 64-bit",
   "language": "python",
   "name": "python3"
  },
  "language_info": {
   "codemirror_mode": {
    "name": "ipython",
    "version": 3
   },
   "file_extension": ".py",
   "mimetype": "text/x-python",
   "name": "python",
   "nbconvert_exporter": "python",
   "pygments_lexer": "ipython3",
   "version": "3.9.1"
  },
  "orig_nbformat": 4,
  "vscode": {
   "interpreter": {
    "hash": "e443b312e6feff0d396647a93eaaecfc37235aac750c756136fcbdcdbd11186d"
   }
  }
 },
 "nbformat": 4,
 "nbformat_minor": 2
}
