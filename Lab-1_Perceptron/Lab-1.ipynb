{
 "cells": [
  {
   "cell_type": "markdown",
   "id": "63960d86",
   "metadata": {},
   "source": [
    "<ins><b>Deep Learning : Principles and Practices</b></ins>\n",
    "\n",
    "<ins><b>Name :</b></ins> Gaurav Pendharkar\n",
    "\n",
    "<ins><b>Registration No.:</b></ins> 20BAI1153\n",
    "\n",
    "<ins><b>Lab - 1 :</b></ins> Implementation of Perceptron from scratch"
   ]
  },
  {
   "cell_type": "markdown",
   "id": "715bb81c",
   "metadata": {},
   "source": [
    "# Importing the required modules"
   ]
  },
  {
   "cell_type": "code",
   "execution_count": 71,
   "id": "25e39b57",
   "metadata": {},
   "outputs": [],
   "source": [
    "# Modules used for data handling and linear algebra operations.\n",
    "import pandas as pd\n",
    "import numpy as np\n",
    "\n",
    "# Modules used for data visualization\n",
    "import matplotlib.pyplot as plt\n",
    "import seaborn as sns\n",
    "sns.set_style()\n",
    "\n",
    "# Modules used for encoding the categorical variables.\n",
    "from sklearn.preprocessing import OneHotEncoder"
   ]
  },
  {
   "cell_type": "markdown",
   "id": "faf23945",
   "metadata": {},
   "source": [
    "# Reading the dataset"
   ]
  },
  {
   "cell_type": "code",
   "execution_count": 72,
   "id": "9816f1e8",
   "metadata": {},
   "outputs": [],
   "source": [
    "df = pd.read_csv(\"credit-approval.data\",header=None)"
   ]
  },
  {
   "cell_type": "code",
   "execution_count": 73,
   "id": "bdc7a4cd",
   "metadata": {},
   "outputs": [
    {
     "data": {
      "text/html": [
       "<div>\n",
       "<style scoped>\n",
       "    .dataframe tbody tr th:only-of-type {\n",
       "        vertical-align: middle;\n",
       "    }\n",
       "\n",
       "    .dataframe tbody tr th {\n",
       "        vertical-align: top;\n",
       "    }\n",
       "\n",
       "    .dataframe thead th {\n",
       "        text-align: right;\n",
       "    }\n",
       "</style>\n",
       "<table border=\"1\" class=\"dataframe\">\n",
       "  <thead>\n",
       "    <tr style=\"text-align: right;\">\n",
       "      <th></th>\n",
       "      <th>0</th>\n",
       "      <th>1</th>\n",
       "      <th>2</th>\n",
       "      <th>3</th>\n",
       "      <th>4</th>\n",
       "      <th>5</th>\n",
       "      <th>6</th>\n",
       "      <th>7</th>\n",
       "      <th>8</th>\n",
       "      <th>9</th>\n",
       "      <th>10</th>\n",
       "      <th>11</th>\n",
       "      <th>12</th>\n",
       "      <th>13</th>\n",
       "      <th>14</th>\n",
       "      <th>15</th>\n",
       "    </tr>\n",
       "  </thead>\n",
       "  <tbody>\n",
       "    <tr>\n",
       "      <th>0</th>\n",
       "      <td>b</td>\n",
       "      <td>30.83</td>\n",
       "      <td>0.000</td>\n",
       "      <td>u</td>\n",
       "      <td>g</td>\n",
       "      <td>w</td>\n",
       "      <td>v</td>\n",
       "      <td>1.25</td>\n",
       "      <td>t</td>\n",
       "      <td>t</td>\n",
       "      <td>1</td>\n",
       "      <td>f</td>\n",
       "      <td>g</td>\n",
       "      <td>00202</td>\n",
       "      <td>0</td>\n",
       "      <td>+</td>\n",
       "    </tr>\n",
       "    <tr>\n",
       "      <th>1</th>\n",
       "      <td>a</td>\n",
       "      <td>58.67</td>\n",
       "      <td>4.460</td>\n",
       "      <td>u</td>\n",
       "      <td>g</td>\n",
       "      <td>q</td>\n",
       "      <td>h</td>\n",
       "      <td>3.04</td>\n",
       "      <td>t</td>\n",
       "      <td>t</td>\n",
       "      <td>6</td>\n",
       "      <td>f</td>\n",
       "      <td>g</td>\n",
       "      <td>00043</td>\n",
       "      <td>560</td>\n",
       "      <td>+</td>\n",
       "    </tr>\n",
       "    <tr>\n",
       "      <th>2</th>\n",
       "      <td>a</td>\n",
       "      <td>24.50</td>\n",
       "      <td>0.500</td>\n",
       "      <td>u</td>\n",
       "      <td>g</td>\n",
       "      <td>q</td>\n",
       "      <td>h</td>\n",
       "      <td>1.50</td>\n",
       "      <td>t</td>\n",
       "      <td>f</td>\n",
       "      <td>0</td>\n",
       "      <td>f</td>\n",
       "      <td>g</td>\n",
       "      <td>00280</td>\n",
       "      <td>824</td>\n",
       "      <td>+</td>\n",
       "    </tr>\n",
       "    <tr>\n",
       "      <th>3</th>\n",
       "      <td>b</td>\n",
       "      <td>27.83</td>\n",
       "      <td>1.540</td>\n",
       "      <td>u</td>\n",
       "      <td>g</td>\n",
       "      <td>w</td>\n",
       "      <td>v</td>\n",
       "      <td>3.75</td>\n",
       "      <td>t</td>\n",
       "      <td>t</td>\n",
       "      <td>5</td>\n",
       "      <td>t</td>\n",
       "      <td>g</td>\n",
       "      <td>00100</td>\n",
       "      <td>3</td>\n",
       "      <td>+</td>\n",
       "    </tr>\n",
       "    <tr>\n",
       "      <th>4</th>\n",
       "      <td>b</td>\n",
       "      <td>20.17</td>\n",
       "      <td>5.625</td>\n",
       "      <td>u</td>\n",
       "      <td>g</td>\n",
       "      <td>w</td>\n",
       "      <td>v</td>\n",
       "      <td>1.71</td>\n",
       "      <td>t</td>\n",
       "      <td>f</td>\n",
       "      <td>0</td>\n",
       "      <td>f</td>\n",
       "      <td>s</td>\n",
       "      <td>00120</td>\n",
       "      <td>0</td>\n",
       "      <td>+</td>\n",
       "    </tr>\n",
       "  </tbody>\n",
       "</table>\n",
       "</div>"
      ],
      "text/plain": [
       "  0      1      2  3  4  5  6     7  8  9   10 11 12     13   14 15\n",
       "0  b  30.83  0.000  u  g  w  v  1.25  t  t   1  f  g  00202    0  +\n",
       "1  a  58.67  4.460  u  g  q  h  3.04  t  t   6  f  g  00043  560  +\n",
       "2  a  24.50  0.500  u  g  q  h  1.50  t  f   0  f  g  00280  824  +\n",
       "3  b  27.83  1.540  u  g  w  v  3.75  t  t   5  t  g  00100    3  +\n",
       "4  b  20.17  5.625  u  g  w  v  1.71  t  f   0  f  s  00120    0  +"
      ]
     },
     "execution_count": 73,
     "metadata": {},
     "output_type": "execute_result"
    }
   ],
   "source": [
    "df.head()"
   ]
  },
  {
   "cell_type": "code",
   "execution_count": 74,
   "id": "c20b070f",
   "metadata": {},
   "outputs": [
    {
     "name": "stdout",
     "output_type": "stream",
     "text": [
      "<class 'pandas.core.frame.DataFrame'>\n",
      "RangeIndex: 690 entries, 0 to 689\n",
      "Data columns (total 16 columns):\n",
      " #   Column  Non-Null Count  Dtype  \n",
      "---  ------  --------------  -----  \n",
      " 0   0       690 non-null    object \n",
      " 1   1       690 non-null    object \n",
      " 2   2       690 non-null    float64\n",
      " 3   3       690 non-null    object \n",
      " 4   4       690 non-null    object \n",
      " 5   5       690 non-null    object \n",
      " 6   6       690 non-null    object \n",
      " 7   7       690 non-null    float64\n",
      " 8   8       690 non-null    object \n",
      " 9   9       690 non-null    object \n",
      " 10  10      690 non-null    int64  \n",
      " 11  11      690 non-null    object \n",
      " 12  12      690 non-null    object \n",
      " 13  13      690 non-null    object \n",
      " 14  14      690 non-null    int64  \n",
      " 15  15      690 non-null    object \n",
      "dtypes: float64(2), int64(2), object(12)\n",
      "memory usage: 86.4+ KB\n"
     ]
    }
   ],
   "source": [
    "df.info()"
   ]
  },
  {
   "cell_type": "code",
   "execution_count": 75,
   "id": "73188d61",
   "metadata": {},
   "outputs": [
    {
     "data": {
      "image/png": "[encoded data removed]",
      "text/plain": [
       "<Figure size 432x288 with 1 Axes>"
      ]
     },
     "metadata": {
      "needs_background": "light"
     },
     "output_type": "display_data"
    }
   ],
   "source": [
    "df.dtypes.value_counts().plot(kind=\"bar\",\n",
    "                              title=\"Types of Data\",\n",
    "                              xlabel=\"Data Type\",\n",
    "                              ylabel=\"No.of columns\",\n",
    "                              rot=0,\n",
    "                              color=[\"crimson\",\"orange\"])\n",
    "plt.show()"
   ]
  },
  {
   "cell_type": "markdown",
   "id": "38ed6e7e",
   "metadata": {},
   "source": [
    "The dataset has mainly categorical variables and few numericals variables."
   ]
  },
  {
   "cell_type": "markdown",
   "id": "018f2b7c",
   "metadata": {},
   "source": [
    "# Exploratory Data Analysis"
   ]
  },
  {
   "cell_type": "markdown",
   "id": "47aed79f",
   "metadata": {},
   "source": [
    "In Exploratory Data Analysis the following parts are included:\n",
    "1. Seggragation of columns (into categorical and numerical)\n",
    "2. Analysis of Missing Values\n",
    "3. Target Variable Class Distribution"
   ]
  },
  {
   "cell_type": "markdown",
   "id": "dcf1b549",
   "metadata": {},
   "source": [
    "## Seggregating columns"
   ]
  },
  {
   "cell_type": "markdown",
   "id": "5c3d0f74",
   "metadata": {},
   "source": [
    "The columns with data type as Object are considered as categorical while others are considered as numerical."
   ]
  },
  {
   "cell_type": "code",
   "execution_count": 76,
   "id": "df762c1d",
   "metadata": {},
   "outputs": [],
   "source": [
    "cat_cols = []\n",
    "num_cols = []\n",
    "\n",
    "for i in df.columns:\n",
    "    if df[i].dtype == \"O\":\n",
    "        cat_cols.append(i)\n",
    "    else:\n",
    "        num_cols.append(i)"
   ]
  },
  {
   "cell_type": "markdown",
   "id": "5ada92d8",
   "metadata": {},
   "source": [
    "## Missing Values Analysis"
   ]
  },
  {
   "cell_type": "markdown",
   "id": "2faf98fa",
   "metadata": {},
   "source": [
    "Since, the UCI data repository mentions missing values as \"?\" instead of null values the analysis has to be carried out accordingly."
   ]
  },
  {
   "cell_type": "code",
   "execution_count": 77,
   "id": "a821c616",
   "metadata": {},
   "outputs": [],
   "source": [
    "null_freq = []\n",
    "for i in df.columns:\n",
    "    f = dict(df[i].value_counts())\n",
    "    if \"?\" in f.keys():\n",
    "        null_freq.append(f[\"?\"]*100/len(df))\n",
    "    else:\n",
    "        null_freq.append(0)"
   ]
  },
  {
   "cell_type": "markdown",
   "id": "c15642f5",
   "metadata": {},
   "source": [
    "Only 2% of the rows have null values and hence the rows can be dropped directly instead of applying any imputation techniques."
   ]
  },
  {
   "cell_type": "code",
   "execution_count": 78,
   "id": "5e166215",
   "metadata": {},
   "outputs": [
    {
     "data": {
      "image/png": "[encoded data removed]",
      "text/plain": [
       "<Figure size 432x288 with 1 Axes>"
      ]
     },
     "metadata": {
      "needs_background": "light"
     },
     "output_type": "display_data"
    }
   ],
   "source": [
    "pd.Series(dict(zip(df.columns,null_freq))).plot(kind=\"bar\",\n",
    "                                                rot=0,\n",
    "                                                title=\"Missing Value Frequency\",\n",
    "                                                xlabel=\"Column Name\",\n",
    "                                                ylabel=\"Percentage of missing values\",\n",
    "                                                color=[\"orange\",\"crimson\"])\n",
    "plt.show()"
   ]
  },
  {
   "cell_type": "markdown",
   "id": "651506dc",
   "metadata": {},
   "source": [
    "## Target Variable Analysis"
   ]
  },
  {
   "cell_type": "markdown",
   "id": "65f08463",
   "metadata": {},
   "source": [
    "The dataset is slightly biased towards \"-\" class since has significantly more entries."
   ]
  },
  {
   "cell_type": "code",
   "execution_count": 79,
   "id": "1db7acfa",
   "metadata": {},
   "outputs": [
    {
     "data": {
      "image/png": "[encoded data removed]",
      "text/plain": [
       "<Figure size 432x288 with 1 Axes>"
      ]
     },
     "metadata": {
      "needs_background": "light"
     },
     "output_type": "display_data"
    }
   ],
   "source": [
    "df[15].value_counts().plot(kind=\"bar\",\n",
    "                           title=\"Class Distribution\",\n",
    "                           xlabel=\"Status of Credit Card Approval\",\n",
    "                           ylabel=\"Frequency of the Status\",\n",
    "                           color=[\"crimson\",\"orange\"],\n",
    "                           rot=0)\n",
    "plt.show()"
   ]
  },
  {
   "cell_type": "markdown",
   "id": "a2c81eb6",
   "metadata": {},
   "source": [
    "# Pre-processing"
   ]
  },
  {
   "cell_type": "markdown",
   "id": "951e0a95",
   "metadata": {},
   "source": [
    "## Handling Missing Values"
   ]
  },
  {
   "cell_type": "code",
   "execution_count": 80,
   "id": "7f11db51",
   "metadata": {},
   "outputs": [],
   "source": [
    "df = df.replace({\"?\":None})"
   ]
  },
  {
   "cell_type": "code",
   "execution_count": 81,
   "id": "717ba7e0",
   "metadata": {},
   "outputs": [],
   "source": [
    "df = df.dropna()"
   ]
  },
  {
   "cell_type": "markdown",
   "id": "39e545df",
   "metadata": {},
   "source": [
    "## Encoding the columns"
   ]
  },
  {
   "cell_type": "code",
   "execution_count": 82,
   "id": "bf6a5872",
   "metadata": {},
   "outputs": [],
   "source": [
    "encoder = OneHotEncoder(sparse=False)\n",
    "for i in cat_cols:\n",
    "    df[i] = encoder.fit_transform(df[i].values.reshape(-1,1))"
   ]
  },
  {
   "cell_type": "code",
   "execution_count": 83,
   "id": "e5135011",
   "metadata": {},
   "outputs": [],
   "source": [
    "df = df.reset_index()"
   ]
  },
  {
   "cell_type": "markdown",
   "id": "0894320f",
   "metadata": {},
   "source": [
    "# Test Train Split"
   ]
  },
  {
   "cell_type": "code",
   "execution_count": 84,
   "id": "cea8cf9c",
   "metadata": {},
   "outputs": [
    {
     "data": {
      "text/plain": [
       "535    1.0\n",
       "492    1.0\n",
       "14     1.0\n",
       "247    0.0\n",
       "85     0.0\n",
       "      ... \n",
       "506    0.0\n",
       "266    0.0\n",
       "155    1.0\n",
       "403    0.0\n",
       "18     1.0\n",
       "Name: 15, Length: 66, dtype: float64"
      ]
     },
     "execution_count": 84,
     "metadata": {},
     "output_type": "execute_result"
    }
   ],
   "source": [
    "from sklearn.model_selection import train_test_split\n",
    "X_train,X_test,y_train,y_test = train_test_split(df,\n",
    "    df[15],\n",
    "    test_size = 0.10,\n",
    "    train_size=0.90,\n",
    "    random_state = 0\n",
    ")\n",
    "X_train.pop(15)\n",
    "X_test.pop(15)"
   ]
  },
  {
   "cell_type": "code",
   "execution_count": 85,
   "id": "be541c1f",
   "metadata": {},
   "outputs": [
    {
     "data": {
      "text/html": [
       "<div>\n",
       "<style scoped>\n",
       "    .dataframe tbody tr th:only-of-type {\n",
       "        vertical-align: middle;\n",
       "    }\n",
       "\n",
       "    .dataframe tbody tr th {\n",
       "        vertical-align: top;\n",
       "    }\n",
       "\n",
       "    .dataframe thead th {\n",
       "        text-align: right;\n",
       "    }\n",
       "</style>\n",
       "<table border=\"1\" class=\"dataframe\">\n",
       "  <thead>\n",
       "    <tr style=\"text-align: right;\">\n",
       "      <th></th>\n",
       "      <th>index</th>\n",
       "      <th>0</th>\n",
       "      <th>1</th>\n",
       "      <th>2</th>\n",
       "      <th>3</th>\n",
       "      <th>4</th>\n",
       "      <th>5</th>\n",
       "      <th>6</th>\n",
       "      <th>7</th>\n",
       "      <th>8</th>\n",
       "      <th>9</th>\n",
       "      <th>10</th>\n",
       "      <th>11</th>\n",
       "      <th>12</th>\n",
       "      <th>13</th>\n",
       "      <th>14</th>\n",
       "    </tr>\n",
       "  </thead>\n",
       "  <tbody>\n",
       "    <tr>\n",
       "      <th>436</th>\n",
       "      <td>459</td>\n",
       "      <td>0.0</td>\n",
       "      <td>0.0</td>\n",
       "      <td>0.290</td>\n",
       "      <td>0.0</td>\n",
       "      <td>0.0</td>\n",
       "      <td>0.0</td>\n",
       "      <td>0.0</td>\n",
       "      <td>1.500</td>\n",
       "      <td>1.0</td>\n",
       "      <td>1.0</td>\n",
       "      <td>0</td>\n",
       "      <td>0.0</td>\n",
       "      <td>1.0</td>\n",
       "      <td>0.0</td>\n",
       "      <td>0</td>\n",
       "    </tr>\n",
       "    <tr>\n",
       "      <th>75</th>\n",
       "      <td>76</td>\n",
       "      <td>0.0</td>\n",
       "      <td>0.0</td>\n",
       "      <td>6.500</td>\n",
       "      <td>0.0</td>\n",
       "      <td>1.0</td>\n",
       "      <td>1.0</td>\n",
       "      <td>0.0</td>\n",
       "      <td>0.125</td>\n",
       "      <td>0.0</td>\n",
       "      <td>1.0</td>\n",
       "      <td>0</td>\n",
       "      <td>0.0</td>\n",
       "      <td>1.0</td>\n",
       "      <td>0.0</td>\n",
       "      <td>0</td>\n",
       "    </tr>\n",
       "    <tr>\n",
       "      <th>55</th>\n",
       "      <td>55</td>\n",
       "      <td>0.0</td>\n",
       "      <td>0.0</td>\n",
       "      <td>11.625</td>\n",
       "      <td>0.0</td>\n",
       "      <td>0.0</td>\n",
       "      <td>0.0</td>\n",
       "      <td>0.0</td>\n",
       "      <td>0.835</td>\n",
       "      <td>0.0</td>\n",
       "      <td>1.0</td>\n",
       "      <td>0</td>\n",
       "      <td>0.0</td>\n",
       "      <td>1.0</td>\n",
       "      <td>0.0</td>\n",
       "      <td>300</td>\n",
       "    </tr>\n",
       "    <tr>\n",
       "      <th>49</th>\n",
       "      <td>49</td>\n",
       "      <td>0.0</td>\n",
       "      <td>0.0</td>\n",
       "      <td>0.665</td>\n",
       "      <td>0.0</td>\n",
       "      <td>1.0</td>\n",
       "      <td>0.0</td>\n",
       "      <td>0.0</td>\n",
       "      <td>0.165</td>\n",
       "      <td>1.0</td>\n",
       "      <td>1.0</td>\n",
       "      <td>0</td>\n",
       "      <td>1.0</td>\n",
       "      <td>1.0</td>\n",
       "      <td>0.0</td>\n",
       "      <td>0</td>\n",
       "    </tr>\n",
       "    <tr>\n",
       "      <th>589</th>\n",
       "      <td>623</td>\n",
       "      <td>0.0</td>\n",
       "      <td>0.0</td>\n",
       "      <td>0.000</td>\n",
       "      <td>0.0</td>\n",
       "      <td>1.0</td>\n",
       "      <td>0.0</td>\n",
       "      <td>0.0</td>\n",
       "      <td>0.665</td>\n",
       "      <td>1.0</td>\n",
       "      <td>1.0</td>\n",
       "      <td>0</td>\n",
       "      <td>1.0</td>\n",
       "      <td>1.0</td>\n",
       "      <td>0.0</td>\n",
       "      <td>1</td>\n",
       "    </tr>\n",
       "    <tr>\n",
       "      <th>...</th>\n",
       "      <td>...</td>\n",
       "      <td>...</td>\n",
       "      <td>...</td>\n",
       "      <td>...</td>\n",
       "      <td>...</td>\n",
       "      <td>...</td>\n",
       "      <td>...</td>\n",
       "      <td>...</td>\n",
       "      <td>...</td>\n",
       "      <td>...</td>\n",
       "      <td>...</td>\n",
       "      <td>...</td>\n",
       "      <td>...</td>\n",
       "      <td>...</td>\n",
       "      <td>...</td>\n",
       "      <td>...</td>\n",
       "    </tr>\n",
       "    <tr>\n",
       "      <th>9</th>\n",
       "      <td>9</td>\n",
       "      <td>0.0</td>\n",
       "      <td>0.0</td>\n",
       "      <td>4.915</td>\n",
       "      <td>0.0</td>\n",
       "      <td>0.0</td>\n",
       "      <td>0.0</td>\n",
       "      <td>0.0</td>\n",
       "      <td>3.165</td>\n",
       "      <td>0.0</td>\n",
       "      <td>1.0</td>\n",
       "      <td>0</td>\n",
       "      <td>0.0</td>\n",
       "      <td>1.0</td>\n",
       "      <td>0.0</td>\n",
       "      <td>1442</td>\n",
       "    </tr>\n",
       "    <tr>\n",
       "      <th>359</th>\n",
       "      <td>377</td>\n",
       "      <td>0.0</td>\n",
       "      <td>0.0</td>\n",
       "      <td>0.835</td>\n",
       "      <td>0.0</td>\n",
       "      <td>0.0</td>\n",
       "      <td>0.0</td>\n",
       "      <td>0.0</td>\n",
       "      <td>2.000</td>\n",
       "      <td>1.0</td>\n",
       "      <td>1.0</td>\n",
       "      <td>0</td>\n",
       "      <td>0.0</td>\n",
       "      <td>0.0</td>\n",
       "      <td>0.0</td>\n",
       "      <td>0</td>\n",
       "    </tr>\n",
       "    <tr>\n",
       "      <th>192</th>\n",
       "      <td>197</td>\n",
       "      <td>0.0</td>\n",
       "      <td>0.0</td>\n",
       "      <td>7.625</td>\n",
       "      <td>0.0</td>\n",
       "      <td>1.0</td>\n",
       "      <td>0.0</td>\n",
       "      <td>0.0</td>\n",
       "      <td>15.500</td>\n",
       "      <td>0.0</td>\n",
       "      <td>0.0</td>\n",
       "      <td>12</td>\n",
       "      <td>1.0</td>\n",
       "      <td>1.0</td>\n",
       "      <td>1.0</td>\n",
       "      <td>790</td>\n",
       "    </tr>\n",
       "    <tr>\n",
       "      <th>629</th>\n",
       "      <td>665</td>\n",
       "      <td>0.0</td>\n",
       "      <td>0.0</td>\n",
       "      <td>0.040</td>\n",
       "      <td>0.0</td>\n",
       "      <td>0.0</td>\n",
       "      <td>0.0</td>\n",
       "      <td>0.0</td>\n",
       "      <td>0.040</td>\n",
       "      <td>1.0</td>\n",
       "      <td>1.0</td>\n",
       "      <td>0</td>\n",
       "      <td>1.0</td>\n",
       "      <td>1.0</td>\n",
       "      <td>1.0</td>\n",
       "      <td>0</td>\n",
       "    </tr>\n",
       "    <tr>\n",
       "      <th>559</th>\n",
       "      <td>588</td>\n",
       "      <td>0.0</td>\n",
       "      <td>0.0</td>\n",
       "      <td>1.750</td>\n",
       "      <td>0.0</td>\n",
       "      <td>0.0</td>\n",
       "      <td>0.0</td>\n",
       "      <td>0.0</td>\n",
       "      <td>1.000</td>\n",
       "      <td>0.0</td>\n",
       "      <td>0.0</td>\n",
       "      <td>5</td>\n",
       "      <td>0.0</td>\n",
       "      <td>1.0</td>\n",
       "      <td>0.0</td>\n",
       "      <td>5777</td>\n",
       "    </tr>\n",
       "  </tbody>\n",
       "</table>\n",
       "<p>587 rows × 16 columns</p>\n",
       "</div>"
      ],
      "text/plain": [
       "     index    0    1       2    3    4    5    6       7    8    9  10   11  \\\n",
       "436    459  0.0  0.0   0.290  0.0  0.0  0.0  0.0   1.500  1.0  1.0   0  0.0   \n",
       "75      76  0.0  0.0   6.500  0.0  1.0  1.0  0.0   0.125  0.0  1.0   0  0.0   \n",
       "55      55  0.0  0.0  11.625  0.0  0.0  0.0  0.0   0.835  0.0  1.0   0  0.0   \n",
       "49      49  0.0  0.0   0.665  0.0  1.0  0.0  0.0   0.165  1.0  1.0   0  1.0   \n",
       "589    623  0.0  0.0   0.000  0.0  1.0  0.0  0.0   0.665  1.0  1.0   0  1.0   \n",
       "..     ...  ...  ...     ...  ...  ...  ...  ...     ...  ...  ...  ..  ...   \n",
       "9        9  0.0  0.0   4.915  0.0  0.0  0.0  0.0   3.165  0.0  1.0   0  0.0   \n",
       "359    377  0.0  0.0   0.835  0.0  0.0  0.0  0.0   2.000  1.0  1.0   0  0.0   \n",
       "192    197  0.0  0.0   7.625  0.0  1.0  0.0  0.0  15.500  0.0  0.0  12  1.0   \n",
       "629    665  0.0  0.0   0.040  0.0  0.0  0.0  0.0   0.040  1.0  1.0   0  1.0   \n",
       "559    588  0.0  0.0   1.750  0.0  0.0  0.0  0.0   1.000  0.0  0.0   5  0.0   \n",
       "\n",
       "      12   13    14  \n",
       "436  1.0  0.0     0  \n",
       "75   1.0  0.0     0  \n",
       "55   1.0  0.0   300  \n",
       "49   1.0  0.0     0  \n",
       "589  1.0  0.0     1  \n",
       "..   ...  ...   ...  \n",
       "9    1.0  0.0  1442  \n",
       "359  0.0  0.0     0  \n",
       "192  1.0  1.0   790  \n",
       "629  1.0  1.0     0  \n",
       "559  1.0  0.0  5777  \n",
       "\n",
       "[587 rows x 16 columns]"
      ]
     },
     "execution_count": 85,
     "metadata": {},
     "output_type": "execute_result"
    }
   ],
   "source": [
    "X_train"
   ]
  },
  {
   "cell_type": "markdown",
   "id": "61d59a88",
   "metadata": {},
   "source": [
    "# Perceptron"
   ]
  },
  {
   "cell_type": "code",
   "execution_count": 86,
   "id": "8fe6fd41",
   "metadata": {},
   "outputs": [],
   "source": [
    "class Perceptron:\n",
    "    \n",
    "    # Initialising the required parameters for the perceptron.\n",
    "    def __init__(self, X, y, learning_rate, epochs : int):\n",
    "        self.X = X\n",
    "        self.y = y\n",
    "        self.learning_rate = learning_rate\n",
    "        self.epochs = epochs\n",
    "    \n",
    "    # Activation function.\n",
    "    def __activation_function(self,x):\n",
    "        return 1.0 if (x > 0) else 0.0\n",
    "    \n",
    "    # The model training or fitting by updating weights.\n",
    "    def fit(self):\n",
    "        n_rows,n_cols = self.X.shape\n",
    "        self.weights = np.zeros((n_cols + 1, 1))\n",
    "        for epoch in range(self.epochs):\n",
    "            for index, features in enumerate(self.X.values):\n",
    "                feature_transposed = np.insert(features, 0, 1).reshape(-1,1)\n",
    "                predicted_target = self.__activation_function(np.dot(feature_transposed.T, self.weights))\n",
    "                flag = np.squeeze(predicted_target) - self.y[index]\n",
    "                if flag != 0:\n",
    "                    self.weights += self.learning_rate*((self.y[index] - predicted_target)*feature_transposed)\n",
    "    \n",
    "    # Predicting on a single instance.\n",
    "    def predict(self, X_test):\n",
    "        return self.__activation_function(np.dot(p.weights.reshape(1,-1)[0],X_test))\n",
    "    \n",
    "    # Predicting on a larger number of instances and returning accuracy.\n",
    "    def test(self, test_data, y):\n",
    "        x = []\n",
    "        for i in range(len(test_data.values)):\n",
    "            X_test = np.array(test_data.iloc[i])\n",
    "            x.append(p.predict(np.insert(X_test,0,1)) == p.y[i])\n",
    "        return sum(x)*100/len(test_data)"
   ]
  },
  {
   "cell_type": "markdown",
   "id": "a9ed5286",
   "metadata": {},
   "source": [
    "# Initialising the Perceptron Parameters"
   ]
  },
  {
   "cell_type": "code",
   "execution_count": 87,
   "id": "964998c7",
   "metadata": {},
   "outputs": [],
   "source": [
    "y = np.array(pd.DataFrame(y_train).reset_index().drop([\"index\"],axis=1))\n",
    "X = pd.DataFrame(X_train).reset_index().drop([\"index\"],axis=1)\n",
    "p = Perceptron(X, y, 0.5, 50)"
   ]
  },
  {
   "cell_type": "markdown",
   "id": "da97f561",
   "metadata": {},
   "source": [
    "# Fitting the model"
   ]
  },
  {
   "cell_type": "code",
   "execution_count": 88,
   "id": "0ad88a66",
   "metadata": {},
   "outputs": [],
   "source": [
    "p.fit()"
   ]
  },
  {
   "cell_type": "markdown",
   "id": "5535102b",
   "metadata": {},
   "source": [
    "# Test Accuracy"
   ]
  },
  {
   "cell_type": "code",
   "execution_count": 89,
   "id": "f52db71b",
   "metadata": {},
   "outputs": [
    {
     "data": {
      "text/plain": [
       "array([51.51515152])"
      ]
     },
     "execution_count": 89,
     "metadata": {},
     "output_type": "execute_result"
    }
   ],
   "source": [
    "p.test(pd.DataFrame(X_test).reset_index().drop([\"index\"],axis=1),\n",
    "     np.array(pd.DataFrame(y_test).reset_index().drop([\"index\"],axis=1)))"
   ]
  },
  {
   "cell_type": "markdown",
   "id": "3423cb8b",
   "metadata": {},
   "source": [
    "# Train Accuracy"
   ]
  },
  {
   "cell_type": "code",
   "execution_count": 90,
   "id": "932d0ccb",
   "metadata": {},
   "outputs": [
    {
     "data": {
      "text/plain": [
       "array([76.66098807])"
      ]
     },
     "execution_count": 90,
     "metadata": {},
     "output_type": "execute_result"
    }
   ],
   "source": [
    "p.test(X,y)"
   ]
  },
  {
   "cell_type": "markdown",
   "id": "65ea2d8c",
   "metadata": {},
   "source": [
    "# Tuning the number of epochs"
   ]
  },
  {
   "cell_type": "code",
   "execution_count": 91,
   "id": "ff3adda4",
   "metadata": {},
   "outputs": [],
   "source": [
    "train_acc = []\n",
    "test_acc = []\n",
    "epochs = []\n",
    "\n",
    "for i in range(20,200,20):\n",
    "    y = np.array(pd.DataFrame(y_train).reset_index().drop([\"index\"],axis=1))\n",
    "    X = pd.DataFrame(X_train).reset_index().drop([\"index\"],axis=1)\n",
    "    p = Perceptron(X, y, 0.5, i)\n",
    "    p.fit()\n",
    "    train_acc.append(p.test(X,y))\n",
    "    test_acc.append(p.test(pd.DataFrame(X_test).reset_index().drop([\"index\"],axis=1),\n",
    "     np.array(pd.DataFrame(y_test).reset_index().drop([\"index\"],axis=1))))\n",
    "    epochs.append(i)"
   ]
  },
  {
   "cell_type": "markdown",
   "id": "b092910e",
   "metadata": {},
   "source": [
    "# Train-Test Accuracies across different epochs"
   ]
  },
  {
   "cell_type": "code",
   "execution_count": 92,
   "id": "f29e4d13",
   "metadata": {},
   "outputs": [
    {
     "data": {
      "image/png": "[encoded data removed]",
      "text/plain": [
       "<Figure size 720x720 with 1 Axes>"
      ]
     },
     "metadata": {
      "needs_background": "light"
     },
     "output_type": "display_data"
    }
   ],
   "source": [
    "plt.figure(figsize=(10,10))\n",
    "plt.plot(epochs,train_acc)\n",
    "plt.plot(epochs,test_acc)\n",
    "plt.xlabel(\"Number of Epochs\")\n",
    "plt.ylabel(\"Accuracy of the model\")\n",
    "plt.legend(['Train Accuracy',\"Test Accuracy\"])\n",
    "plt.show()"
   ]
  },
  {
   "cell_type": "markdown",
   "id": "87884b92",
   "metadata": {},
   "source": [
    "# Final Model"
   ]
  },
  {
   "cell_type": "code",
   "execution_count": 93,
   "id": "03fc1300",
   "metadata": {},
   "outputs": [],
   "source": [
    "tuning = pd.DataFrame({\"epochs\":np.array(epochs).squeeze(),\"train accuracy\":np.array(train_acc).squeeze(), \"test accuracy\":np.array(test_acc).squeeze()})"
   ]
  },
  {
   "cell_type": "code",
   "execution_count": 94,
   "id": "e7a50452",
   "metadata": {},
   "outputs": [],
   "source": [
    "def diff(row):\n",
    "    return row[1] - row[2]"
   ]
  },
  {
   "cell_type": "code",
   "execution_count": 95,
   "id": "7729e58f",
   "metadata": {},
   "outputs": [],
   "source": [
    "tuning[\"Difference\"] = tuning.apply(diff,axis=1)"
   ]
  },
  {
   "cell_type": "code",
   "execution_count": 96,
   "id": "91601ed4",
   "metadata": {},
   "outputs": [
    {
     "data": {
      "text/html": [
       "<div>\n",
       "<style scoped>\n",
       "    .dataframe tbody tr th:only-of-type {\n",
       "        vertical-align: middle;\n",
       "    }\n",
       "\n",
       "    .dataframe tbody tr th {\n",
       "        vertical-align: top;\n",
       "    }\n",
       "\n",
       "    .dataframe thead th {\n",
       "        text-align: right;\n",
       "    }\n",
       "</style>\n",
       "<table border=\"1\" class=\"dataframe\">\n",
       "  <thead>\n",
       "    <tr style=\"text-align: right;\">\n",
       "      <th></th>\n",
       "      <th>epochs</th>\n",
       "      <th>train accuracy</th>\n",
       "      <th>test accuracy</th>\n",
       "      <th>Difference</th>\n",
       "    </tr>\n",
       "  </thead>\n",
       "  <tbody>\n",
       "    <tr>\n",
       "      <th>3</th>\n",
       "      <td>80</td>\n",
       "      <td>45.826235</td>\n",
       "      <td>48.484848</td>\n",
       "      <td>-2.658613</td>\n",
       "    </tr>\n",
       "    <tr>\n",
       "      <th>1</th>\n",
       "      <td>40</td>\n",
       "      <td>72.402044</td>\n",
       "      <td>50.000000</td>\n",
       "      <td>22.402044</td>\n",
       "    </tr>\n",
       "    <tr>\n",
       "      <th>0</th>\n",
       "      <td>20</td>\n",
       "      <td>71.039182</td>\n",
       "      <td>48.484848</td>\n",
       "      <td>22.554334</td>\n",
       "    </tr>\n",
       "    <tr>\n",
       "      <th>5</th>\n",
       "      <td>120</td>\n",
       "      <td>71.039182</td>\n",
       "      <td>46.969697</td>\n",
       "      <td>24.069485</td>\n",
       "    </tr>\n",
       "    <tr>\n",
       "      <th>2</th>\n",
       "      <td>60</td>\n",
       "      <td>74.105622</td>\n",
       "      <td>50.000000</td>\n",
       "      <td>24.105622</td>\n",
       "    </tr>\n",
       "    <tr>\n",
       "      <th>6</th>\n",
       "      <td>140</td>\n",
       "      <td>78.364566</td>\n",
       "      <td>51.515152</td>\n",
       "      <td>26.849414</td>\n",
       "    </tr>\n",
       "    <tr>\n",
       "      <th>4</th>\n",
       "      <td>100</td>\n",
       "      <td>72.913118</td>\n",
       "      <td>45.454545</td>\n",
       "      <td>27.458572</td>\n",
       "    </tr>\n",
       "    <tr>\n",
       "      <th>7</th>\n",
       "      <td>160</td>\n",
       "      <td>78.705281</td>\n",
       "      <td>46.969697</td>\n",
       "      <td>31.735584</td>\n",
       "    </tr>\n",
       "    <tr>\n",
       "      <th>8</th>\n",
       "      <td>180</td>\n",
       "      <td>79.386712</td>\n",
       "      <td>46.969697</td>\n",
       "      <td>32.417015</td>\n",
       "    </tr>\n",
       "  </tbody>\n",
       "</table>\n",
       "</div>"
      ],
      "text/plain": [
       "   epochs  train accuracy  test accuracy  Difference\n",
       "3      80       45.826235      48.484848   -2.658613\n",
       "1      40       72.402044      50.000000   22.402044\n",
       "0      20       71.039182      48.484848   22.554334\n",
       "5     120       71.039182      46.969697   24.069485\n",
       "2      60       74.105622      50.000000   24.105622\n",
       "6     140       78.364566      51.515152   26.849414\n",
       "4     100       72.913118      45.454545   27.458572\n",
       "7     160       78.705281      46.969697   31.735584\n",
       "8     180       79.386712      46.969697   32.417015"
      ]
     },
     "execution_count": 96,
     "metadata": {},
     "output_type": "execute_result"
    }
   ],
   "source": [
    "tuning.sort_values(by=\"Difference\")"
   ]
  },
  {
   "cell_type": "markdown",
   "id": "f7028cee",
   "metadata": {},
   "source": [
    "The best model is the one which is trained for 40 epochs. There can be many other hyperparameters but since Perceptron is coded from scratch those cannot be incorporated. The one with 80 epoches is not considered since the train accuracy must be greater than the test accuracy because the model is trained on the former."
   ]
  },
  {
   "cell_type": "markdown",
   "id": "a58111ed",
   "metadata": {},
   "source": [
    "# References"
   ]
  },
  {
   "cell_type": "markdown",
   "id": "25a502ed",
   "metadata": {},
   "source": [
    "About Perceptron : https://analyticsindiamag.com/perceptron-is-the-only-neural-network-without-any-hidden-layer/\n",
    "\n",
    "For Perceptron from scratch : https://towardsdatascience.com/perceptron-algorithm-in-python-f3ac89d2e537\n",
    "\n",
    "Dataset : https://archive.ics.uci.edu/ml/datasets/credit+approval"
   ]
  }
 ],
 "metadata": {
  "kernelspec": {
   "display_name": "Python 3 (ipykernel)",
   "language": "python",
   "name": "python3"
  },
  "language_info": {
   "codemirror_mode": {
    "name": "ipython",
    "version": 3
   },
   "file_extension": ".py",
   "mimetype": "text/x-python",
   "name": "python",
   "nbconvert_exporter": "python",
   "pygments_lexer": "ipython3",
   "version": "3.9.7"
  }
 },
 "nbformat": 4,
 "nbformat_minor": 5
}
