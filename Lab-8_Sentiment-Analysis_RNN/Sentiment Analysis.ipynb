{
 "cells": [
  {
   "cell_type": "markdown",
   "id": "5c686bd3",
   "metadata": {},
   "source": [
    "<u><b>Deep Learning : Principles and Practices - CSE1016 - L33 + L34</b></u>\n",
    "\n",
    "<u><b>Name: </b></u> Gaurav Pendharkar\n",
    "\n",
    "<u><b>Registration No: </b></u> 20BAI1153\n",
    "\n",
    "<u><b>Lab - 8 : </b></u> Sentiment Analysis on IMDB dataset using Recurrent Neural Networks."
   ]
  },
  {
   "cell_type": "markdown",
   "id": "5105f5f7",
   "metadata": {},
   "source": [
    "# Importing the required modules"
   ]
  },
  {
   "cell_type": "code",
   "execution_count": 1,
   "id": "532c3015",
   "metadata": {},
   "outputs": [],
   "source": [
    "# Modules used for data visualisation\n",
    "import matplotlib.pyplot as plt\n",
    "import seaborn as sns\n",
    "sns.set_style()\n",
    "\n",
    "# Modules used for acquiring the dataset\n",
    "from keras.datasets import imdb\n",
    "\n",
    "# Modules processing word vectors\n",
    "from keras_preprocessing.sequence import pad_sequences\n",
    "\n",
    "# Modules used for building the model\n",
    "from keras import Sequential\n",
    "from keras.layers import Embedding, LSTM, Dense, Dropout\n",
    "\n",
    "# Modules used for suppressing warnings\n",
    "import warnings \n",
    "warnings.filterwarnings('ignore')"
   ]
  },
  {
   "cell_type": "markdown",
   "id": "46172944",
   "metadata": {},
   "source": [
    "# Loading the dataset"
   ]
  },
  {
   "cell_type": "code",
   "execution_count": 2,
   "id": "6e33b46b",
   "metadata": {},
   "outputs": [],
   "source": [
    "class Dataset:\n",
    "    \n",
    "    def __init__(self):\n",
    "        self.VOCABULARY_SIZE = 5000\n",
    "        self.word2id = None\n",
    "        self.id2word = None\n",
    "    \n",
    "    def load_dataset(self):\n",
    "        (self.X_train, self.y_train), (self.X_test, self.y_test) = imdb.load_data(num_words = self.VOCABULARY_SIZE)\n",
    "        print('Loaded dataset with {} training samples, {} test samples'.format(len(self.X_train), \n",
    "                                                                                len(self.X_test)))\n",
    "        \n",
    "    def word_index(self):\n",
    "        self.word2id = imdb.get_word_index()\n",
    "        self.id2word = {i: word for word, i in self.word2id.items()}\n",
    "        print('Review with words:')\n",
    "        print([self.id2word.get(i, ' ') for i in self.X_train[6]])\n",
    "        print('Label:')\n",
    "        print(self.y_train[6])\n",
    "    \n",
    "    def plot_review_lengths(self):\n",
    "        l = list(map(len, self.X_train + self.X_test))\n",
    "        \n",
    "        plt.figure(figsize = (8,8))\n",
    "        plt.hist(l,\n",
    "                 color=\"crimson\",\n",
    "                 edgecolor=\"black\")\n",
    "        plt.xlabel(\"Length of Reviews\")\n",
    "        plt.ylabel(\"Number of review of that length\")\n",
    "        plt.title(\"Distribution of the Length of reviews\")\n",
    "        plt.show()\n",
    "        "
   ]
  },
  {
   "cell_type": "markdown",
   "id": "fbed67ab",
   "metadata": {},
   "source": [
    "## Loading the dataset"
   ]
  },
  {
   "cell_type": "code",
   "execution_count": 3,
   "id": "607b8cb4",
   "metadata": {},
   "outputs": [],
   "source": [
    "d = Dataset()"
   ]
  },
  {
   "cell_type": "code",
   "execution_count": 4,
   "id": "6d7d81b8",
   "metadata": {},
   "outputs": [
    {
     "name": "stdout",
     "output_type": "stream",
     "text": [
      "Loaded dataset with 25000 training samples, 25000 test samples\n"
     ]
    }
   ],
   "source": [
    "d.load_dataset()"
   ]
  },
  {
   "cell_type": "markdown",
   "id": "3ba59747",
   "metadata": {},
   "source": [
    "## Loading the word index from keras"
   ]
  },
  {
   "cell_type": "code",
   "execution_count": 5,
   "id": "6b5281aa",
   "metadata": {},
   "outputs": [
    {
     "name": "stdout",
     "output_type": "stream",
     "text": [
      "Review with words:\n",
      "['the', 'and', 'full', 'involving', 'to', 'impressive', 'boring', 'this', 'as', 'and', 'and', 'br', 'villain', 'and', 'and', 'need', 'has', 'of', 'costumes', 'b', 'message', 'to', 'may', 'of', 'props', 'this', 'and', 'and', 'concept', 'issue', 'and', 'to', \"god's\", 'he', 'is', 'and', 'unfolds', 'movie', 'women', 'like', \"isn't\", 'surely', \"i'm\", 'and', 'to', 'toward', 'in', \"here's\", 'for', 'from', 'did', 'having', 'because', 'very', 'quality', 'it', 'is', 'and', 'and', 'really', 'book', 'is', 'both', 'too', 'worked', 'carl', 'of', 'and', 'br', 'of', 'reviewer', 'closer', 'figure', 'really', 'there', 'will', 'and', 'things', 'is', 'far', 'this', 'make', 'mistakes', 'and', 'was', \"couldn't\", 'of', 'few', 'br', 'of', 'you', 'to', \"don't\", 'female', 'than', 'place', 'she', 'to', 'was', 'between', 'that', 'nothing', 'and', 'movies', 'get', 'are', 'and', 'br', 'yes', 'female', 'just', 'its', 'because', 'many', 'br', 'of', 'overly', 'to', 'descent', 'people', 'time', 'very', 'bland']\n",
      "Label:\n",
      "1\n"
     ]
    }
   ],
   "source": [
    "d.word_index()"
   ]
  },
  {
   "cell_type": "markdown",
   "id": "b2737064",
   "metadata": {},
   "source": [
    "## Visualising the review lengths"
   ]
  },
  {
   "cell_type": "code",
   "execution_count": 6,
   "id": "3f32388d",
   "metadata": {},
   "outputs": [
    {
     "data": {
      "image/png": "[encoded data removed]",
      "text/plain": [
       "<Figure size 576x576 with 1 Axes>"
      ]
     },
     "metadata": {
      "needs_background": "light"
     },
     "output_type": "display_data"
    }
   ],
   "source": [
    "d.plot_review_lengths()"
   ]
  },
  {
   "cell_type": "markdown",
   "id": "2e176579",
   "metadata": {},
   "source": [
    "The length of movie reviews are skewed and do not follow a normal distribution. Moreover, the maximum length of movie reviews is 2697 and minimum length is 14. However, most of reviews have a length of 500 or close to it."
   ]
  },
  {
   "cell_type": "markdown",
   "id": "ef6ee9c5",
   "metadata": {},
   "source": [
    "# Model Building"
   ]
  },
  {
   "cell_type": "code",
   "execution_count": 7,
   "id": "55d1895a",
   "metadata": {},
   "outputs": [],
   "source": [
    "class RNN:\n",
    "    \n",
    "    def __init__(self, X_train, y_train, X_test, y_test) -> None:\n",
    "        self.X_train = X_train\n",
    "        self.y_train = y_train\n",
    "        self.X_test = X_test\n",
    "        self.y_test = y_test\n",
    "        self.EMBEDDING_SIZE = 32\n",
    "        self.VOCABULARY_SIZE = 5000\n",
    "        self.BATCH_SIZE = 32\n",
    "        self.NUM_EPOCHS = 5\n",
    "        self.max_words = None\n",
    "        self.model = None\n",
    "        \n",
    "        \n",
    "        \n",
    "    def __pad_word_vectors(self, max_words : int) -> None:\n",
    "        self.max_words = max_words\n",
    "        self.X_train = pad_sequences(self.X_train, \n",
    "                                     maxlen = self.max_words)\n",
    "        self.X_test =  pad_sequences(self.X_test,\n",
    "                                    maxlen = self.max_words)\n",
    "        \n",
    "    def __train_validation_split(self):\n",
    "        self.X_valid, self.y_valid = self.X_train[:self.BATCH_SIZE], self.y_train[:self.BATCH_SIZE]\n",
    "        self.X_train, self.y_train = self.X_train[self.BATCH_SIZE:], self.y_train[self.BATCH_SIZE:]\n",
    "    \n",
    "    def preprocessing(self):\n",
    "        self.__pad_word_vectors(500)\n",
    "        self.__train_validation_split()\n",
    "    \n",
    "    def build_model(self):\n",
    "        self.model=Sequential()\n",
    "        self.model.add(Embedding(self.VOCABULARY_SIZE, \n",
    "                            self.EMBEDDING_SIZE, \n",
    "                            input_length=self.max_words))\n",
    "        self.model.add(LSTM(100))\n",
    "        self.model.add(Dense(1, activation='sigmoid'))\n",
    "        print(self.model.summary())\n",
    "    \n",
    "    def compile_model(self):\n",
    "        self.model.compile(loss='binary_crossentropy', \n",
    "                      optimizer='adam', \n",
    "                      metrics=['accuracy'])\n",
    "    \n",
    "    \n",
    "    def train_model(self):\n",
    "        self.history = self.model.fit(self.X_train, \n",
    "                                 self.y_train, \n",
    "                                 validation_data=(self.X_valid, \n",
    "                                                  self.y_valid), \n",
    "                                 batch_size=self.BATCH_SIZE, \n",
    "                                 epochs=self.NUM_EPOCHS)\n",
    "    \n",
    "    def plot_history(self):\n",
    "        fig, axs = plt.subplots(2, 1, figsize=(15,15))\n",
    "        axs[0].plot(self.history.history['loss'])\n",
    "        axs[0].plot(self.history.history['val_loss'])\n",
    "        axs[0].title.set_text('Training Loss vs Validation Loss')\n",
    "        axs[0].set_xlabel('Epochs')\n",
    "        axs[0].set_ylabel('Loss')\n",
    "        axs[0].legend(['Train','Val'])\n",
    "\n",
    "        axs[1].plot(self.history.history['accuracy'])\n",
    "        axs[1].plot(self.history.history['val_accuracy'])\n",
    "        axs[1].title.set_text('Training Accuracy vs Validation Accuracy')\n",
    "        axs[1].set_xlabel('Epochs')\n",
    "        axs[1].set_ylabel('Accuracy')\n",
    "        axs[1].legend(['Train', 'Val'])\n",
    "    \n",
    "    def evaluate_model(self):\n",
    "        scores = model.evaluate(self.X_test, \n",
    "                                self.y_test, \n",
    "                                verbose=0)\n",
    "        \n",
    "        print('Test accuracy:', scores[1])\n",
    "    "
   ]
  },
  {
   "cell_type": "markdown",
   "id": "aa3db1d7",
   "metadata": {},
   "source": [
    "## Initiating the RNN"
   ]
  },
  {
   "cell_type": "code",
   "execution_count": 8,
   "id": "f202095e",
   "metadata": {},
   "outputs": [],
   "source": [
    "r = RNN(d.X_train, d.y_train, d.X_test, d.y_test)"
   ]
  },
  {
   "cell_type": "markdown",
   "id": "a91482eb",
   "metadata": {},
   "source": [
    "## Preprocessing the data"
   ]
  },
  {
   "cell_type": "code",
   "execution_count": 9,
   "id": "d5e7e715",
   "metadata": {},
   "outputs": [],
   "source": [
    "r.preprocessing()"
   ]
  },
  {
   "cell_type": "markdown",
   "id": "9016bddf",
   "metadata": {},
   "source": [
    "## Designing the model"
   ]
  },
  {
   "cell_type": "code",
   "execution_count": 10,
   "id": "c48bd244",
   "metadata": {},
   "outputs": [
    {
     "name": "stdout",
     "output_type": "stream",
     "text": [
      "Model: \"sequential\"\n",
      "_________________________________________________________________\n",
      " Layer (type)                Output Shape              Param #   \n",
      "=================================================================\n",
      " embedding (Embedding)       (None, 500, 32)           160000    \n",
      "                                                                 \n",
      " lstm (LSTM)                 (None, 100)               53200     \n",
      "                                                                 \n",
      " dense (Dense)               (None, 1)                 101       \n",
      "                                                                 \n",
      "=================================================================\n",
      "Total params: 213,301\n",
      "Trainable params: 213,301\n",
      "Non-trainable params: 0\n",
      "_________________________________________________________________\n",
      "None\n"
     ]
    }
   ],
   "source": [
    "r.build_model()"
   ]
  },
  {
   "cell_type": "markdown",
   "id": "9f64efe3",
   "metadata": {},
   "source": [
    "## Compiling the model"
   ]
  },
  {
   "cell_type": "code",
   "execution_count": 11,
   "id": "f3356305",
   "metadata": {},
   "outputs": [],
   "source": [
    "r.compile_model()"
   ]
  },
  {
   "cell_type": "markdown",
   "id": "be1fbc0e",
   "metadata": {},
   "source": [
    "## Training the model"
   ]
  },
  {
   "cell_type": "code",
   "execution_count": 12,
   "id": "d9d4b73e",
   "metadata": {},
   "outputs": [
    {
     "name": "stdout",
     "output_type": "stream",
     "text": [
      "Epoch 1/5\n",
      "781/781 [==============================] - 400s 507ms/step - loss: 0.4780 - accuracy: 0.7691 - val_loss: 0.3016 - val_accuracy: 0.8750\n",
      "Epoch 2/5\n",
      "781/781 [==============================] - 380s 486ms/step - loss: 0.3108 - accuracy: 0.8708 - val_loss: 0.2069 - val_accuracy: 0.9062\n",
      "Epoch 3/5\n",
      "781/781 [==============================] - 385s 492ms/step - loss: 0.2462 - accuracy: 0.9051 - val_loss: 0.2639 - val_accuracy: 0.8750\n",
      "Epoch 4/5\n",
      "781/781 [==============================] - 465s 596ms/step - loss: 0.2216 - accuracy: 0.9136 - val_loss: 0.2459 - val_accuracy: 0.9375\n",
      "Epoch 5/5\n",
      "781/781 [==============================] - 325s 416ms/step - loss: 0.1918 - accuracy: 0.9265 - val_loss: 0.2714 - val_accuracy: 0.9688\n"
     ]
    }
   ],
   "source": [
    "r.train_model()"
   ]
  },
  {
   "cell_type": "markdown",
   "id": "de10d48f",
   "metadata": {},
   "source": [
    "## Plotting the training history"
   ]
  },
  {
   "cell_type": "code",
   "execution_count": 13,
   "id": "e2afd793",
   "metadata": {},
   "outputs": [
    {
     "data": {
      "image/png": "[encoded data removed]",
      "text/plain": [
       "<Figure size 1080x1080 with 2 Axes>"
      ]
     },
     "metadata": {
      "needs_background": "light"
     },
     "output_type": "display_data"
    }
   ],
   "source": [
    "r.plot_history()"
   ]
  },
  {
   "cell_type": "markdown",
   "id": "94bd29e8",
   "metadata": {},
   "source": [
    "## Evaluating the model"
   ]
  },
  {
   "cell_type": "code",
   "execution_count": 15,
   "id": "fc6ed3bc",
   "metadata": {},
   "outputs": [
    {
     "name": "stdout",
     "output_type": "stream",
     "text": [
      "Test accuracy: 0.8691999912261963\n"
     ]
    }
   ],
   "source": [
    "scores = r.model.evaluate(r.X_test, \n",
    "                                r.y_test, \n",
    "                                verbose=0)\n",
    "        \n",
    "print('Test accuracy:', scores[1])"
   ]
  },
  {
   "cell_type": "markdown",
   "id": "1d31ac6c",
   "metadata": {},
   "source": [
    "# Conclusion"
   ]
  },
  {
   "cell_type": "markdown",
   "id": "5cd6e53a",
   "metadata": {},
   "source": [
    "- A RNN model is designed to classify the sentiment of the movie reviews in the IMDB dataset into two categories.\n",
    "- The model is fitted on the training data resulting in an accuracy of 92.65% and validation accuracy of 96.88%. Moreover, on the evaluation of the model on the test dataset we get an accuracy of 86.91%. \n",
    "-  The model needs epoches since validation accuracy is greater than train accuracy which is inappropriate.\n",
    "- Hence, the sentiment analysis of the reviews in IMDB dataset is achieved using Recurrent Neural Networks(RNN)."
   ]
  }
 ],
 "metadata": {
  "kernelspec": {
   "display_name": "Python 3 (ipykernel)",
   "language": "python",
   "name": "python3"
  },
  "language_info": {
   "codemirror_mode": {
    "name": "ipython",
    "version": 3
   },
   "file_extension": ".py",
   "mimetype": "text/x-python",
   "name": "python",
   "nbconvert_exporter": "python",
   "pygments_lexer": "ipython3",
   "version": "3.9.1"
  },
  "vscode": {
   "interpreter": {
    "hash": "e443b312e6feff0d396647a93eaaecfc37235aac750c756136fcbdcdbd11186d"
   }
  }
 },
 "nbformat": 4,
 "nbformat_minor": 5
}
